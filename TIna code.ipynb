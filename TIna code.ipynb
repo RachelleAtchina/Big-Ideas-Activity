{
 "cells": [
  {
   "cell_type": "code",
   "execution_count": null,
   "id": "7f6cc67a-a12e-4950-a3ed-c84b20d481b4",
   "metadata": {},
   "outputs": [],
   "source": [
    "name_prompt = \"What is your name? \"\n",
    "age_prompt = \"What is your age? \"\n",
    "name = input(prompt=name_prompt)\n",
    "age = input(prompt=age_prompt)\n",
    "greeting_message = \"Hi, \" + name + \"! You are \" + age + \" years old.\"\n",
    "print(greeting_message)"
   ]
  },
  {
   "cell_type": "code",
   "execution_count": null,
   "id": "4cce3bf1-467e-4e86-8d53-11cee0778364",
   "metadata": {},
   "outputs": [],
   "source": []
  }
 ],
 "metadata": {
  "kernelspec": {
   "display_name": "Python 3 (ipykernel)",
   "language": "python",
   "name": "python3"
  },
  "language_info": {
   "codemirror_mode": {
    "name": "ipython",
    "version": 3
   },
   "file_extension": ".py",
   "mimetype": "text/x-python",
   "name": "python",
   "nbconvert_exporter": "python",
   "pygments_lexer": "ipython3",
   "version": "3.12.4"
  }
 },
 "nbformat": 4,
 "nbformat_minor": 5
}
